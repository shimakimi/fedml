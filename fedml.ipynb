{
 "cells": [
  {
   "cell_type": "markdown",
   "metadata": {},
   "source": [
    "# VFLの実装"
   ]
  },
  {
   "cell_type": "code",
   "execution_count": 1,
   "metadata": {},
   "outputs": [],
   "source": [
    "import os\n",
    "import random\n",
    "import pandas as pd\n",
    "import numpy as np\n",
    "import torch\n",
    "import torch.nn.functional as F\n",
    "from torch.utils.data import Dataset\n",
    "from torch.utils.data import DataLoader\n",
    "\n",
    "from sklearn.metrics import roc_auc_score\n",
    "from sklearn.preprocessing import OneHotEncoder, MinMaxScaler\n",
    "\n",
    "from tqdm.notebook import tqdm\n",
    "import time"
   ]
  },
  {
   "cell_type": "code",
   "execution_count": 2,
   "metadata": {},
   "outputs": [],
   "source": [
    "def load_data():\n",
    "    tr = pd.read_csv('adult.data', header=None)\n",
    "    te = pd.read_csv('adult.test', header=None, skiprows=1) # 1行目は不要\n",
    "\n",
    "    h = [\n",
    "        'age', 'workclass', 'fnlwgt', 'education', 'education_num', 'marital_status', 'occupation', 'relationship', \n",
    "        'race', 'sex', 'capital_gain', 'capital_loss', 'hours_per_week', 'native_country', 'over_50k'\n",
    "    ]\n",
    "\n",
    "    tr.columns = h\n",
    "    te.columns = h\n",
    "    te.over_50k = te.over_50k.str.split('.', expand=True)[0] # 行末尾に不要なドットが含まれているので除去\n",
    "\n",
    "    num_cols = ['age', 'fnlwgt', 'education_num', 'capital_gain', 'capital_loss', 'hours_per_week']\n",
    "    cat_cols = ['workclass', 'education', 'marital_status', 'occupation', 'relationship', 'race', 'sex', 'native_country']\n",
    "    lab_col  = 'over_50k'\n",
    "    \n",
    "    return tr, te, num_cols, cat_cols, lab_col\n",
    "\n",
    "def create_encoders(dat, cat_cols, num_cols):\n",
    "    encoders = dict()\n",
    "\n",
    "    # カテゴリ列はOneHotEncoding\n",
    "    for c in tqdm(cat_cols):\n",
    "        enc = OneHotEncoder(handle_unknown='ignore')\n",
    "        enc.fit(dat[c].astype(str).values.reshape(-1, 1))\n",
    "        encoders[c] = enc\n",
    "\n",
    "    # 数値列はMinMaxScaler\n",
    "    for c in tqdm(num_cols):\n",
    "        scaler = MinMaxScaler()\n",
    "        scaler.fit(dat[c].values.reshape(-1, 1))\n",
    "        encoders[c] = scaler\n",
    "\n",
    "    return encoders\n",
    "\n",
    "def encode(dat, cat_cols, num_cols, encoders):\n",
    "\n",
    "    for c in tqdm(cat_cols):\n",
    "        out = encoders[c].transform(dat[c].astype(str).values.reshape(-1, 1))\n",
    "        if not type(out) == np.ndarray:\n",
    "            out = out.todense()\n",
    "        keys = [f'{c}_{i}' for i in range(out.shape[1])]\n",
    "        dat[keys] = out\n",
    "        dat = dat.drop(c, axis=1)\n",
    "\n",
    "    for c in tqdm(num_cols):\n",
    "        out = encoders[c].transform(dat[c].values.reshape(-1, 1)).flatten()\n",
    "        dat[c] = out\n",
    "\n",
    "    return dat\n",
    "\n",
    "class AdultDataset(Dataset):\n",
    "    def __init__(self, x, y):\n",
    "        # 本来はxはクライアント，yはサーバ側で保有します\n",
    "        self.x = torch.Tensor(x.values)\n",
    "        self.y = torch.Tensor(y.values)\n",
    "    \n",
    "    def __len__(self):\n",
    "        return len(self.x)\n",
    "    \n",
    "    def __getitem__(self, idx):\n",
    "        return self.x[idx,:], self.y[idx]\n",
    "\n",
    "def preprocess(tr, te, cat_cols, num_cols, lab_col):\n",
    "    encoders = create_encoders(tr, cat_cols, num_cols)\n",
    "    tr = encode(tr, cat_cols, num_cols, encoders)\n",
    "    te = encode(te, cat_cols, num_cols, encoders)\n",
    "    \n",
    "    tr[lab_col] = tr[lab_col].replace({' <=50K': 0, ' >50K': 1}) \n",
    "    te[lab_col] = te[lab_col].replace({' <=50K': 0, ' >50K': 1}) \n",
    "    \n",
    "    tr_x = tr.drop(lab_col, axis=1)\n",
    "    tr_y = tr[lab_col]\n",
    "    te_x = te.drop(lab_col, axis=1)\n",
    "    te_y = te[lab_col]\n",
    "    \n",
    "    tr_ds = AdultDataset(tr_x, tr_y)\n",
    "    te_ds = AdultDataset(te_x, te_y)\n",
    "    \n",
    "    tr_dl = DataLoader(tr_ds, batch_size = 1024, shuffle=True)\n",
    "    te_dl = DataLoader(te_ds, batch_size = 1024, shuffle=False)\n",
    "    \n",
    "    # positive weight\n",
    "    pos_weight = (tr_y.shape[0] - tr_y.sum()) / tr_y.sum()\n",
    "    \n",
    "    return tr_dl, te_dl, torch.FloatTensor([pos_weight])"
   ]
  },
  {
   "cell_type": "markdown",
   "metadata": {},
   "source": [
    "# MLP"
   ]
  },
  {
   "cell_type": "code",
   "execution_count": 3,
   "metadata": {},
   "outputs": [],
   "source": [
    "seed = 42\n",
    "def set_seed(seed):\n",
    "    torch.manual_seed(seed)\n",
    "    torch.cuda.manual_seed(seed)\n",
    "    torch.cuda.manual_seed_all(seed)\n",
    "    np.random.seed(seed)\n",
    "    random.seed(seed)\n",
    "    \n",
    "class MLP(torch.nn.Module):\n",
    "    def __init__(self, in_size, hidden_size, out_size):\n",
    "        super(MLP, self).__init__()\n",
    "        self.i2h = torch.nn.Linear(in_size, hidden_size)\n",
    "        self.h2h = torch.nn.Linear(hidden_size, hidden_size//2) \n",
    "        self.h2o = torch.nn.Linear(hidden_size//2, out_size)   \n",
    "\n",
    "        # 初期値を固定\n",
    "        set_seed(seed)\n",
    "        torch.nn.init.xavier_uniform_(self.i2h.weight.data)            \n",
    "        torch.nn.init.ones_(self.i2h.bias.data)\n",
    "        set_seed(seed)\n",
    "        torch.nn.init.xavier_uniform_(self.h2h.weight.data)\n",
    "        torch.nn.init.ones_(self.h2h.bias.data)\n",
    "        set_seed(seed)\n",
    "        torch.nn.init.xavier_uniform_(self.h2o.weight.data)\n",
    "        torch.nn.init.ones_(self.h2o.bias.data)        \n",
    "        \n",
    "    def forward(self, x):\n",
    "        h = self.i2h(x)\n",
    "        h = F.relu(h)\n",
    "        h = self.h2h(h)\n",
    "        h = F.relu(h)\n",
    "        o = self.h2o(h)\n",
    "        return o\n",
    "        \n",
    "def train_MLP(tr_dl, te_dl, pos_weight):\n",
    "    mlp = MLP(108, 32, 1)\n",
    "    optimizer = torch.optim.Adam(mlp.parameters(), lr=0.01)\n",
    "    criterion = torch.nn.BCEWithLogitsLoss(pos_weight=pos_weight)    \n",
    "    \n",
    "    for epoch in range(30):\n",
    "        tr_loss = 0\n",
    "        mlp.train()\n",
    "        for i, (batch_x, batch_y) in enumerate(tqdm(tr_dl)):\n",
    "            optimizer.zero_grad()\n",
    "            pred_y = mlp(batch_x)\n",
    "            loss = criterion(pred_y.flatten(), batch_y)\n",
    "            loss.backward()\n",
    "            optimizer.step()\n",
    "            tr_loss += loss.item()\n",
    "        print(f'Epoch: {epoch}, Training loss: {tr_loss:.4f}')\n",
    "\n",
    "    te_loss = 0\n",
    "    pred_y_list = []\n",
    "    true_y_list = []\n",
    "    mlp.eval()\n",
    "    for i, (batch_x, batch_y) in enumerate(tqdm(te_dl)):\n",
    "        pred_y = mlp(batch_x)\n",
    "        loss = criterion(pred_y.flatten(), batch_y)\n",
    "        te_loss += loss.item()\n",
    "        pred_y_list.extend(torch.sigmoid(pred_y.flatten()).detach().tolist())\n",
    "        true_y_list.extend(batch_y.detach().tolist())\n",
    "    \n",
    "    score = roc_auc_score(true_y_list, pred_y_list)\n",
    "    print(f'Test loss: {te_loss:.4f}')\n",
    "    print(f'Test ROC-AUC: {score:.4f}')"
   ]
  },
  {
   "cell_type": "markdown",
   "metadata": {},
   "source": [
    "# VFL"
   ]
  },
  {
   "cell_type": "code",
   "execution_count": 4,
   "metadata": {},
   "outputs": [],
   "source": [
    "class ClientModel(torch.nn.Module):\n",
    "    def __init__(self, in_size, hidden_size):\n",
    "        super(ClientModel, self).__init__()\n",
    "        self.i2h = torch.nn.Linear(in_size, hidden_size)\n",
    "\n",
    "        # 初期値を固定\n",
    "        set_seed(seed)\n",
    "        torch.nn.init.xavier_uniform_(self.i2h.weight.data)            \n",
    "        torch.nn.init.ones_(self.i2h.bias.data)\n",
    "                \n",
    "    def forward(self, x):\n",
    "        h = self.i2h(x)\n",
    "        h = F.relu(h)\n",
    "        return h\n",
    "    \n",
    "class ServerModel(torch.nn.Module):\n",
    "    def __init__(self, hidden_size, out_size):\n",
    "        super(ServerModel, self).__init__()\n",
    "        self.h2h = torch.nn.Linear(hidden_size, hidden_size//2) \n",
    "        self.h2o = torch.nn.Linear(hidden_size//2, out_size)   \n",
    "        \n",
    "        # 初期値を固定\n",
    "        set_seed(seed)\n",
    "        torch.nn.init.xavier_uniform_(self.h2h.weight.data)\n",
    "        torch.nn.init.ones_(self.h2h.bias.data)\n",
    "        set_seed(seed)\n",
    "        torch.nn.init.xavier_uniform_(self.h2o.weight.data)\n",
    "        torch.nn.init.ones_(self.h2o.bias.data)\n",
    "        \n",
    "    def forward(self, h):\n",
    "        h = self.h2h(h)\n",
    "        h = F.relu(h)\n",
    "        o = self.h2o(h)\n",
    "        return o"
   ]
  },
  {
   "cell_type": "markdown",
   "metadata": {},
   "source": [
    "# Forward-propagation\n",
    "# Backward-propagation"
   ]
  },
  {
   "cell_type": "code",
   "execution_count": 8,
   "metadata": {},
   "outputs": [],
   "source": [
    "def train_VFL(tr_dl, te_dl, pos_weight):\n",
    "    client_model = ClientModel(108, 32)\n",
    "    server_model = ServerModel(32, 1)\n",
    "    clinet_optimizer = torch.optim.Adam(client_model.parameters(), lr=0.01)\n",
    "    server_optimizer = torch.optim.Adam(server_model.parameters(), lr=0.01)\n",
    "    criterion = torch.nn.BCEWithLogitsLoss(pos_weight=pos_weight)    \n",
    "    \n",
    "    for epoch in range(30):\n",
    "        tr_loss = 0\n",
    "        client_model.train()\n",
    "        server_model.train()\n",
    "        for i, (batch_x, batch_y) in enumerate(tqdm(tr_dl)):\n",
    "            # クライアントがembeddingをサーバへ送信\n",
    "            clinet_optimizer.zero_grad()\n",
    "            h = client_model(batch_x)\n",
    "            torch.save(h.detach(), 'emb.pt')\n",
    "            \n",
    "            # サーバがembeddingを受け取ってサーバモデルを更新\n",
    "            server_optimizer.zero_grad()\n",
    "            emb = torch.load('emb.pt')\n",
    "            emb.requires_grad_(True) # あとでembeddingでの微分を取得できるように事前設定\n",
    "            pred_y = server_model(emb)\n",
    "            # (下のコードへ続く)\n",
    "            # (上のコードの続き。forループ内部で，サーバ処理の続き)\n",
    "            loss = criterion(pred_y.flatten(), batch_y)\n",
    "            loss.backward()\n",
    "            server_optimizer.step()\n",
    "            tr_loss += loss.item()\n",
    "            \n",
    "            # サーバがgradientをクライアントへ返却\n",
    "            grad = emb.grad # gradient の取得\n",
    "            torch.save(grad.detach(), 'grad.pt')\n",
    "            \n",
    "            # クライアントがgradientを受け取ってクライアントモデルを更新\n",
    "            dldh = torch.load('grad.pt')\n",
    "            h.backward(dldh)\n",
    "            clinet_optimizer.step()\n",
    "        \n",
    "        # End of for all batches\n",
    "\n",
    "        print(f'Epoch: {epoch}, Training loss: {tr_loss:.4f}')\n",
    "\n",
    "    # End of for all epochs\n",
    "\n",
    "    te_loss = 0\n",
    "    pred_y_list = []\n",
    "    true_y_list = []\n",
    "    client_model.eval()\n",
    "    server_model.eval()\n",
    "    for i, (batch_x, batch_y) in enumerate(tqdm(te_dl)):\n",
    "        # クライアントがembeddingをサーバへ送信\n",
    "        h = client_model(batch_x)\n",
    "        torch.save(h.detach(), 'emb.pt')\n",
    "        \n",
    "        # サーバがembeddingを受け取って出力\n",
    "        emb = torch.load('emb.pt')\n",
    "        pred_y = server_model(emb)\n",
    "        loss = criterion(pred_y.flatten(), batch_y)\n",
    "        te_loss += loss.item()\n",
    "        pred_y_list.extend(torch.sigmoid(pred_y.flatten()).detach().tolist())\n",
    "        true_y_list.extend(batch_y.detach().tolist())\n",
    "\n",
    "        # Testingデータについてはback-propagationが不要\n",
    "    \n",
    "    score = roc_auc_score(true_y_list, pred_y_list)\n",
    "    print(f'Test loss: {te_loss:.4f}')\n",
    "    print(f'Test ROC-AUC: {score:.4f}')\n"
   ]
  },
  {
   "cell_type": "markdown",
   "metadata": {},
   "source": [
    "# 実験"
   ]
  },
  {
   "cell_type": "code",
   "execution_count": 10,
   "metadata": {},
   "outputs": [
    {
     "data": {
      "application/vnd.jupyter.widget-view+json": {
       "model_id": "08e2366fd6a44d54a5e87d55a02415e0",
       "version_major": 2,
       "version_minor": 0
      },
      "text/plain": [
       "  0%|          | 0/8 [00:00<?, ?it/s]"
      ]
     },
     "metadata": {},
     "output_type": "display_data"
    },
    {
     "data": {
      "application/vnd.jupyter.widget-view+json": {
       "model_id": "16c8a4f548aa421caeec601d8a9c5eb2",
       "version_major": 2,
       "version_minor": 0
      },
      "text/plain": [
       "  0%|          | 0/6 [00:00<?, ?it/s]"
      ]
     },
     "metadata": {},
     "output_type": "display_data"
    },
    {
     "data": {
      "application/vnd.jupyter.widget-view+json": {
       "model_id": "90a3f705925942c89f492e4033604fba",
       "version_major": 2,
       "version_minor": 0
      },
      "text/plain": [
       "  0%|          | 0/8 [00:00<?, ?it/s]"
      ]
     },
     "metadata": {},
     "output_type": "display_data"
    },
    {
     "name": "stderr",
     "output_type": "stream",
     "text": [
      "C:\\Users\\imper\\AppData\\Local\\Temp\\ipykernel_24020\\3839523369.py:44: PerformanceWarning: DataFrame is highly fragmented.  This is usually the result of calling `frame.insert` many times, which has poor performance.  Consider joining all columns at once using pd.concat(axis=1) instead. To get a de-fragmented frame, use `newframe = frame.copy()`\n",
      "  dat[keys] = out\n",
      "C:\\Users\\imper\\AppData\\Local\\Temp\\ipykernel_24020\\3839523369.py:44: PerformanceWarning: DataFrame is highly fragmented.  This is usually the result of calling `frame.insert` many times, which has poor performance.  Consider joining all columns at once using pd.concat(axis=1) instead. To get a de-fragmented frame, use `newframe = frame.copy()`\n",
      "  dat[keys] = out\n",
      "C:\\Users\\imper\\AppData\\Local\\Temp\\ipykernel_24020\\3839523369.py:44: PerformanceWarning: DataFrame is highly fragmented.  This is usually the result of calling `frame.insert` many times, which has poor performance.  Consider joining all columns at once using pd.concat(axis=1) instead. To get a de-fragmented frame, use `newframe = frame.copy()`\n",
      "  dat[keys] = out\n",
      "C:\\Users\\imper\\AppData\\Local\\Temp\\ipykernel_24020\\3839523369.py:44: PerformanceWarning: DataFrame is highly fragmented.  This is usually the result of calling `frame.insert` many times, which has poor performance.  Consider joining all columns at once using pd.concat(axis=1) instead. To get a de-fragmented frame, use `newframe = frame.copy()`\n",
      "  dat[keys] = out\n"
     ]
    },
    {
     "data": {
      "application/vnd.jupyter.widget-view+json": {
       "model_id": "c172120a688b454dac3a3bdfe89f46d7",
       "version_major": 2,
       "version_minor": 0
      },
      "text/plain": [
       "  0%|          | 0/6 [00:00<?, ?it/s]"
      ]
     },
     "metadata": {},
     "output_type": "display_data"
    },
    {
     "data": {
      "application/vnd.jupyter.widget-view+json": {
       "model_id": "b1f734f3a5324e8ba51b151529b23000",
       "version_major": 2,
       "version_minor": 0
      },
      "text/plain": [
       "  0%|          | 0/8 [00:00<?, ?it/s]"
      ]
     },
     "metadata": {},
     "output_type": "display_data"
    },
    {
     "name": "stderr",
     "output_type": "stream",
     "text": [
      "C:\\Users\\imper\\AppData\\Local\\Temp\\ipykernel_24020\\3839523369.py:44: PerformanceWarning: DataFrame is highly fragmented.  This is usually the result of calling `frame.insert` many times, which has poor performance.  Consider joining all columns at once using pd.concat(axis=1) instead. To get a de-fragmented frame, use `newframe = frame.copy()`\n",
      "  dat[keys] = out\n",
      "C:\\Users\\imper\\AppData\\Local\\Temp\\ipykernel_24020\\3839523369.py:44: PerformanceWarning: DataFrame is highly fragmented.  This is usually the result of calling `frame.insert` many times, which has poor performance.  Consider joining all columns at once using pd.concat(axis=1) instead. To get a de-fragmented frame, use `newframe = frame.copy()`\n",
      "  dat[keys] = out\n",
      "C:\\Users\\imper\\AppData\\Local\\Temp\\ipykernel_24020\\3839523369.py:44: PerformanceWarning: DataFrame is highly fragmented.  This is usually the result of calling `frame.insert` many times, which has poor performance.  Consider joining all columns at once using pd.concat(axis=1) instead. To get a de-fragmented frame, use `newframe = frame.copy()`\n",
      "  dat[keys] = out\n",
      "C:\\Users\\imper\\AppData\\Local\\Temp\\ipykernel_24020\\3839523369.py:44: PerformanceWarning: DataFrame is highly fragmented.  This is usually the result of calling `frame.insert` many times, which has poor performance.  Consider joining all columns at once using pd.concat(axis=1) instead. To get a de-fragmented frame, use `newframe = frame.copy()`\n",
      "  dat[keys] = out\n",
      "C:\\Users\\imper\\AppData\\Local\\Temp\\ipykernel_24020\\3839523369.py:44: PerformanceWarning: DataFrame is highly fragmented.  This is usually the result of calling `frame.insert` many times, which has poor performance.  Consider joining all columns at once using pd.concat(axis=1) instead. To get a de-fragmented frame, use `newframe = frame.copy()`\n",
      "  dat[keys] = out\n"
     ]
    },
    {
     "data": {
      "application/vnd.jupyter.widget-view+json": {
       "model_id": "89fa6b80bda746eb80c1385a818177be",
       "version_major": 2,
       "version_minor": 0
      },
      "text/plain": [
       "  0%|          | 0/6 [00:00<?, ?it/s]"
      ]
     },
     "metadata": {},
     "output_type": "display_data"
    }
   ],
   "source": [
    "tr, te, num_cols, cat_cols, lab_col = load_data()\n",
    "tr_dl, te_dl, pos_weight = preprocess(tr, te, cat_cols, num_cols, lab_col)"
   ]
  },
  {
   "cell_type": "markdown",
   "metadata": {},
   "source": [
    "# MLP"
   ]
  },
  {
   "cell_type": "code",
   "execution_count": 11,
   "metadata": {},
   "outputs": [
    {
     "data": {
      "application/vnd.jupyter.widget-view+json": {
       "model_id": "4fa5bf5c3116490c94df73c24dae7e90",
       "version_major": 2,
       "version_minor": 0
      },
      "text/plain": [
       "  0%|          | 0/32 [00:00<?, ?it/s]"
      ]
     },
     "metadata": {},
     "output_type": "display_data"
    },
    {
     "name": "stdout",
     "output_type": "stream",
     "text": [
      "Epoch: 0, Training loss: 28.0662\n"
     ]
    },
    {
     "data": {
      "application/vnd.jupyter.widget-view+json": {
       "model_id": "2576fc5ca1d7475788d0b7ba855ec6d9",
       "version_major": 2,
       "version_minor": 0
      },
      "text/plain": [
       "  0%|          | 0/32 [00:00<?, ?it/s]"
      ]
     },
     "metadata": {},
     "output_type": "display_data"
    },
    {
     "name": "stdout",
     "output_type": "stream",
     "text": [
      "Epoch: 1, Training loss: 20.5576\n"
     ]
    },
    {
     "data": {
      "application/vnd.jupyter.widget-view+json": {
       "model_id": "342a9c49fc3e481b87eb4ca06c1b91a9",
       "version_major": 2,
       "version_minor": 0
      },
      "text/plain": [
       "  0%|          | 0/32 [00:00<?, ?it/s]"
      ]
     },
     "metadata": {},
     "output_type": "display_data"
    },
    {
     "name": "stdout",
     "output_type": "stream",
     "text": [
      "Epoch: 2, Training loss: 20.0262\n"
     ]
    },
    {
     "data": {
      "application/vnd.jupyter.widget-view+json": {
       "model_id": "14faae58269d4e6783e7291af0887e92",
       "version_major": 2,
       "version_minor": 0
      },
      "text/plain": [
       "  0%|          | 0/32 [00:00<?, ?it/s]"
      ]
     },
     "metadata": {},
     "output_type": "display_data"
    },
    {
     "name": "stdout",
     "output_type": "stream",
     "text": [
      "Epoch: 3, Training loss: 19.6655\n"
     ]
    },
    {
     "data": {
      "application/vnd.jupyter.widget-view+json": {
       "model_id": "65692bcce37e417da078b94289d80674",
       "version_major": 2,
       "version_minor": 0
      },
      "text/plain": [
       "  0%|          | 0/32 [00:00<?, ?it/s]"
      ]
     },
     "metadata": {},
     "output_type": "display_data"
    },
    {
     "name": "stdout",
     "output_type": "stream",
     "text": [
      "Epoch: 4, Training loss: 19.3939\n"
     ]
    },
    {
     "data": {
      "application/vnd.jupyter.widget-view+json": {
       "model_id": "0387993e29af4f79aa2b59e4326a1e8d",
       "version_major": 2,
       "version_minor": 0
      },
      "text/plain": [
       "  0%|          | 0/32 [00:00<?, ?it/s]"
      ]
     },
     "metadata": {},
     "output_type": "display_data"
    },
    {
     "name": "stdout",
     "output_type": "stream",
     "text": [
      "Epoch: 5, Training loss: 19.1457\n"
     ]
    },
    {
     "data": {
      "application/vnd.jupyter.widget-view+json": {
       "model_id": "30376694b57b43109a24de29387d4653",
       "version_major": 2,
       "version_minor": 0
      },
      "text/plain": [
       "  0%|          | 0/32 [00:00<?, ?it/s]"
      ]
     },
     "metadata": {},
     "output_type": "display_data"
    },
    {
     "name": "stdout",
     "output_type": "stream",
     "text": [
      "Epoch: 6, Training loss: 19.0693\n"
     ]
    },
    {
     "data": {
      "application/vnd.jupyter.widget-view+json": {
       "model_id": "08cc2a9d3e2c418087b561e4048b335d",
       "version_major": 2,
       "version_minor": 0
      },
      "text/plain": [
       "  0%|          | 0/32 [00:00<?, ?it/s]"
      ]
     },
     "metadata": {},
     "output_type": "display_data"
    },
    {
     "name": "stdout",
     "output_type": "stream",
     "text": [
      "Epoch: 7, Training loss: 18.8062\n"
     ]
    },
    {
     "data": {
      "application/vnd.jupyter.widget-view+json": {
       "model_id": "02f523c185c24ae89a1fbfa07ecd3715",
       "version_major": 2,
       "version_minor": 0
      },
      "text/plain": [
       "  0%|          | 0/32 [00:00<?, ?it/s]"
      ]
     },
     "metadata": {},
     "output_type": "display_data"
    },
    {
     "name": "stdout",
     "output_type": "stream",
     "text": [
      "Epoch: 8, Training loss: 18.5536\n"
     ]
    },
    {
     "data": {
      "application/vnd.jupyter.widget-view+json": {
       "model_id": "4e2dc446ec29484c9b8775ff7094b36a",
       "version_major": 2,
       "version_minor": 0
      },
      "text/plain": [
       "  0%|          | 0/32 [00:00<?, ?it/s]"
      ]
     },
     "metadata": {},
     "output_type": "display_data"
    },
    {
     "name": "stdout",
     "output_type": "stream",
     "text": [
      "Epoch: 9, Training loss: 18.5164\n"
     ]
    },
    {
     "data": {
      "application/vnd.jupyter.widget-view+json": {
       "model_id": "cede41138e4542079f5cbdda5179afb5",
       "version_major": 2,
       "version_minor": 0
      },
      "text/plain": [
       "  0%|          | 0/32 [00:00<?, ?it/s]"
      ]
     },
     "metadata": {},
     "output_type": "display_data"
    },
    {
     "name": "stdout",
     "output_type": "stream",
     "text": [
      "Epoch: 10, Training loss: 18.5321\n"
     ]
    },
    {
     "data": {
      "application/vnd.jupyter.widget-view+json": {
       "model_id": "0896e5fc352d4bc48f59d40eb44f3c7c",
       "version_major": 2,
       "version_minor": 0
      },
      "text/plain": [
       "  0%|          | 0/32 [00:00<?, ?it/s]"
      ]
     },
     "metadata": {},
     "output_type": "display_data"
    },
    {
     "name": "stdout",
     "output_type": "stream",
     "text": [
      "Epoch: 11, Training loss: 18.5289\n"
     ]
    },
    {
     "data": {
      "application/vnd.jupyter.widget-view+json": {
       "model_id": "a157315e78264d5ea5eb72c2157e2410",
       "version_major": 2,
       "version_minor": 0
      },
      "text/plain": [
       "  0%|          | 0/32 [00:00<?, ?it/s]"
      ]
     },
     "metadata": {},
     "output_type": "display_data"
    },
    {
     "name": "stdout",
     "output_type": "stream",
     "text": [
      "Epoch: 12, Training loss: 18.2194\n"
     ]
    },
    {
     "data": {
      "application/vnd.jupyter.widget-view+json": {
       "model_id": "6ac80b79f8be4ab696595e27dbfc14d3",
       "version_major": 2,
       "version_minor": 0
      },
      "text/plain": [
       "  0%|          | 0/32 [00:00<?, ?it/s]"
      ]
     },
     "metadata": {},
     "output_type": "display_data"
    },
    {
     "name": "stdout",
     "output_type": "stream",
     "text": [
      "Epoch: 13, Training loss: 18.0579\n"
     ]
    },
    {
     "data": {
      "application/vnd.jupyter.widget-view+json": {
       "model_id": "33785494421f4c7eb4f73bf14bf264f8",
       "version_major": 2,
       "version_minor": 0
      },
      "text/plain": [
       "  0%|          | 0/32 [00:00<?, ?it/s]"
      ]
     },
     "metadata": {},
     "output_type": "display_data"
    },
    {
     "name": "stdout",
     "output_type": "stream",
     "text": [
      "Epoch: 14, Training loss: 18.1807\n"
     ]
    },
    {
     "data": {
      "application/vnd.jupyter.widget-view+json": {
       "model_id": "5894cead1fe14401a7da8ea8fcc4120d",
       "version_major": 2,
       "version_minor": 0
      },
      "text/plain": [
       "  0%|          | 0/32 [00:00<?, ?it/s]"
      ]
     },
     "metadata": {},
     "output_type": "display_data"
    },
    {
     "name": "stdout",
     "output_type": "stream",
     "text": [
      "Epoch: 15, Training loss: 17.9560\n"
     ]
    },
    {
     "data": {
      "application/vnd.jupyter.widget-view+json": {
       "model_id": "91499d4e635f4d72be24710f109a76d4",
       "version_major": 2,
       "version_minor": 0
      },
      "text/plain": [
       "  0%|          | 0/32 [00:00<?, ?it/s]"
      ]
     },
     "metadata": {},
     "output_type": "display_data"
    },
    {
     "name": "stdout",
     "output_type": "stream",
     "text": [
      "Epoch: 16, Training loss: 17.9120\n"
     ]
    },
    {
     "data": {
      "application/vnd.jupyter.widget-view+json": {
       "model_id": "d33842ed011548a38322b35ef5c28ec3",
       "version_major": 2,
       "version_minor": 0
      },
      "text/plain": [
       "  0%|          | 0/32 [00:00<?, ?it/s]"
      ]
     },
     "metadata": {},
     "output_type": "display_data"
    },
    {
     "name": "stdout",
     "output_type": "stream",
     "text": [
      "Epoch: 17, Training loss: 17.8606\n"
     ]
    },
    {
     "data": {
      "application/vnd.jupyter.widget-view+json": {
       "model_id": "81e8bc00fa4a4bb790e4e7517f91a4c9",
       "version_major": 2,
       "version_minor": 0
      },
      "text/plain": [
       "  0%|          | 0/32 [00:00<?, ?it/s]"
      ]
     },
     "metadata": {},
     "output_type": "display_data"
    },
    {
     "name": "stdout",
     "output_type": "stream",
     "text": [
      "Epoch: 18, Training loss: 17.7908\n"
     ]
    },
    {
     "data": {
      "application/vnd.jupyter.widget-view+json": {
       "model_id": "81dc3b2ec5304b878a2d72e9d4664c50",
       "version_major": 2,
       "version_minor": 0
      },
      "text/plain": [
       "  0%|          | 0/32 [00:00<?, ?it/s]"
      ]
     },
     "metadata": {},
     "output_type": "display_data"
    },
    {
     "name": "stdout",
     "output_type": "stream",
     "text": [
      "Epoch: 19, Training loss: 17.9168\n"
     ]
    },
    {
     "data": {
      "application/vnd.jupyter.widget-view+json": {
       "model_id": "d208b1da55df43229950ef5d8d024415",
       "version_major": 2,
       "version_minor": 0
      },
      "text/plain": [
       "  0%|          | 0/32 [00:00<?, ?it/s]"
      ]
     },
     "metadata": {},
     "output_type": "display_data"
    },
    {
     "name": "stdout",
     "output_type": "stream",
     "text": [
      "Epoch: 20, Training loss: 17.7262\n"
     ]
    },
    {
     "data": {
      "application/vnd.jupyter.widget-view+json": {
       "model_id": "c9b688c3c8d84b7db807e47a0179aa5d",
       "version_major": 2,
       "version_minor": 0
      },
      "text/plain": [
       "  0%|          | 0/32 [00:00<?, ?it/s]"
      ]
     },
     "metadata": {},
     "output_type": "display_data"
    },
    {
     "name": "stdout",
     "output_type": "stream",
     "text": [
      "Epoch: 21, Training loss: 17.5858\n"
     ]
    },
    {
     "data": {
      "application/vnd.jupyter.widget-view+json": {
       "model_id": "74ec625121cb4de2be13b3884f6fc9c0",
       "version_major": 2,
       "version_minor": 0
      },
      "text/plain": [
       "  0%|          | 0/32 [00:00<?, ?it/s]"
      ]
     },
     "metadata": {},
     "output_type": "display_data"
    },
    {
     "name": "stdout",
     "output_type": "stream",
     "text": [
      "Epoch: 22, Training loss: 17.5655\n"
     ]
    },
    {
     "data": {
      "application/vnd.jupyter.widget-view+json": {
       "model_id": "8ed6ebb991014a6796cff46230b7fe28",
       "version_major": 2,
       "version_minor": 0
      },
      "text/plain": [
       "  0%|          | 0/32 [00:00<?, ?it/s]"
      ]
     },
     "metadata": {},
     "output_type": "display_data"
    },
    {
     "name": "stdout",
     "output_type": "stream",
     "text": [
      "Epoch: 23, Training loss: 17.5677\n"
     ]
    },
    {
     "data": {
      "application/vnd.jupyter.widget-view+json": {
       "model_id": "fb06bda569f7449fa1be84750dd606c5",
       "version_major": 2,
       "version_minor": 0
      },
      "text/plain": [
       "  0%|          | 0/32 [00:00<?, ?it/s]"
      ]
     },
     "metadata": {},
     "output_type": "display_data"
    },
    {
     "name": "stdout",
     "output_type": "stream",
     "text": [
      "Epoch: 24, Training loss: 17.6287\n"
     ]
    },
    {
     "data": {
      "application/vnd.jupyter.widget-view+json": {
       "model_id": "c737ee7bd4b8459785e706caf95d67d8",
       "version_major": 2,
       "version_minor": 0
      },
      "text/plain": [
       "  0%|          | 0/32 [00:00<?, ?it/s]"
      ]
     },
     "metadata": {},
     "output_type": "display_data"
    },
    {
     "name": "stdout",
     "output_type": "stream",
     "text": [
      "Epoch: 25, Training loss: 17.4766\n"
     ]
    },
    {
     "data": {
      "application/vnd.jupyter.widget-view+json": {
       "model_id": "15b4722ed4114719a887ae4554ba813d",
       "version_major": 2,
       "version_minor": 0
      },
      "text/plain": [
       "  0%|          | 0/32 [00:00<?, ?it/s]"
      ]
     },
     "metadata": {},
     "output_type": "display_data"
    },
    {
     "name": "stdout",
     "output_type": "stream",
     "text": [
      "Epoch: 26, Training loss: 17.3864\n"
     ]
    },
    {
     "data": {
      "application/vnd.jupyter.widget-view+json": {
       "model_id": "44114ef4ade3476fa6be29abbdb36529",
       "version_major": 2,
       "version_minor": 0
      },
      "text/plain": [
       "  0%|          | 0/32 [00:00<?, ?it/s]"
      ]
     },
     "metadata": {},
     "output_type": "display_data"
    },
    {
     "name": "stdout",
     "output_type": "stream",
     "text": [
      "Epoch: 27, Training loss: 17.3278\n"
     ]
    },
    {
     "data": {
      "application/vnd.jupyter.widget-view+json": {
       "model_id": "22df1da33b704e86b097e6db067bc4af",
       "version_major": 2,
       "version_minor": 0
      },
      "text/plain": [
       "  0%|          | 0/32 [00:00<?, ?it/s]"
      ]
     },
     "metadata": {},
     "output_type": "display_data"
    },
    {
     "name": "stdout",
     "output_type": "stream",
     "text": [
      "Epoch: 28, Training loss: 17.3704\n"
     ]
    },
    {
     "data": {
      "application/vnd.jupyter.widget-view+json": {
       "model_id": "5203ee75a9a5483e95c6f8ef9dc908d7",
       "version_major": 2,
       "version_minor": 0
      },
      "text/plain": [
       "  0%|          | 0/32 [00:00<?, ?it/s]"
      ]
     },
     "metadata": {},
     "output_type": "display_data"
    },
    {
     "name": "stdout",
     "output_type": "stream",
     "text": [
      "Epoch: 29, Training loss: 17.3743\n"
     ]
    },
    {
     "data": {
      "application/vnd.jupyter.widget-view+json": {
       "model_id": "a1165db64f7d44de9a415e9ac9bd9197",
       "version_major": 2,
       "version_minor": 0
      },
      "text/plain": [
       "  0%|          | 0/16 [00:00<?, ?it/s]"
      ]
     },
     "metadata": {},
     "output_type": "display_data"
    },
    {
     "name": "stdout",
     "output_type": "stream",
     "text": [
      "Test loss: 9.2621\n",
      "Test ROC-AUC: 0.9060\n",
      "Time: 15.5836\n"
     ]
    }
   ],
   "source": [
    "st = time.time()\n",
    "train_MLP(tr_dl, te_dl, pos_weight)\n",
    "print(f'Time: {time.time()-st:.4f}')"
   ]
  },
  {
   "cell_type": "markdown",
   "metadata": {},
   "source": [
    "# VFL"
   ]
  },
  {
   "cell_type": "code",
   "execution_count": 12,
   "metadata": {},
   "outputs": [
    {
     "data": {
      "application/vnd.jupyter.widget-view+json": {
       "model_id": "b77c6b645c07465893b92aa58535782c",
       "version_major": 2,
       "version_minor": 0
      },
      "text/plain": [
       "  0%|          | 0/32 [00:00<?, ?it/s]"
      ]
     },
     "metadata": {},
     "output_type": "display_data"
    },
    {
     "name": "stdout",
     "output_type": "stream",
     "text": [
      "Epoch: 0, Training loss: 28.0662\n"
     ]
    },
    {
     "data": {
      "application/vnd.jupyter.widget-view+json": {
       "model_id": "060e19c9eb0d46c6891c64a1ce74aa8e",
       "version_major": 2,
       "version_minor": 0
      },
      "text/plain": [
       "  0%|          | 0/32 [00:00<?, ?it/s]"
      ]
     },
     "metadata": {},
     "output_type": "display_data"
    },
    {
     "name": "stdout",
     "output_type": "stream",
     "text": [
      "Epoch: 1, Training loss: 20.5576\n"
     ]
    },
    {
     "data": {
      "application/vnd.jupyter.widget-view+json": {
       "model_id": "80f92ea13f1e47159767fe9167024f17",
       "version_major": 2,
       "version_minor": 0
      },
      "text/plain": [
       "  0%|          | 0/32 [00:00<?, ?it/s]"
      ]
     },
     "metadata": {},
     "output_type": "display_data"
    },
    {
     "name": "stdout",
     "output_type": "stream",
     "text": [
      "Epoch: 2, Training loss: 20.0262\n"
     ]
    },
    {
     "data": {
      "application/vnd.jupyter.widget-view+json": {
       "model_id": "75d36d93dd6345d19339fa088f3a578c",
       "version_major": 2,
       "version_minor": 0
      },
      "text/plain": [
       "  0%|          | 0/32 [00:00<?, ?it/s]"
      ]
     },
     "metadata": {},
     "output_type": "display_data"
    },
    {
     "name": "stdout",
     "output_type": "stream",
     "text": [
      "Epoch: 3, Training loss: 19.6655\n"
     ]
    },
    {
     "data": {
      "application/vnd.jupyter.widget-view+json": {
       "model_id": "7b85f15bf440414892c63db78b16d660",
       "version_major": 2,
       "version_minor": 0
      },
      "text/plain": [
       "  0%|          | 0/32 [00:00<?, ?it/s]"
      ]
     },
     "metadata": {},
     "output_type": "display_data"
    },
    {
     "name": "stdout",
     "output_type": "stream",
     "text": [
      "Epoch: 4, Training loss: 19.3939\n"
     ]
    },
    {
     "data": {
      "application/vnd.jupyter.widget-view+json": {
       "model_id": "fbc4bc59b12d402da0ffa9d68b296785",
       "version_major": 2,
       "version_minor": 0
      },
      "text/plain": [
       "  0%|          | 0/32 [00:00<?, ?it/s]"
      ]
     },
     "metadata": {},
     "output_type": "display_data"
    },
    {
     "name": "stdout",
     "output_type": "stream",
     "text": [
      "Epoch: 5, Training loss: 19.1457\n"
     ]
    },
    {
     "data": {
      "application/vnd.jupyter.widget-view+json": {
       "model_id": "8c375faed4e042589ce2a3d403581636",
       "version_major": 2,
       "version_minor": 0
      },
      "text/plain": [
       "  0%|          | 0/32 [00:00<?, ?it/s]"
      ]
     },
     "metadata": {},
     "output_type": "display_data"
    },
    {
     "name": "stdout",
     "output_type": "stream",
     "text": [
      "Epoch: 6, Training loss: 19.0693\n"
     ]
    },
    {
     "data": {
      "application/vnd.jupyter.widget-view+json": {
       "model_id": "9cfb6508157540a4b8fc411c1b0ee6cb",
       "version_major": 2,
       "version_minor": 0
      },
      "text/plain": [
       "  0%|          | 0/32 [00:00<?, ?it/s]"
      ]
     },
     "metadata": {},
     "output_type": "display_data"
    },
    {
     "name": "stdout",
     "output_type": "stream",
     "text": [
      "Epoch: 7, Training loss: 18.8062\n"
     ]
    },
    {
     "data": {
      "application/vnd.jupyter.widget-view+json": {
       "model_id": "8086e47ab5b34071b01274b02d2ee90e",
       "version_major": 2,
       "version_minor": 0
      },
      "text/plain": [
       "  0%|          | 0/32 [00:00<?, ?it/s]"
      ]
     },
     "metadata": {},
     "output_type": "display_data"
    },
    {
     "name": "stdout",
     "output_type": "stream",
     "text": [
      "Epoch: 8, Training loss: 18.5536\n"
     ]
    },
    {
     "data": {
      "application/vnd.jupyter.widget-view+json": {
       "model_id": "3641548c65f149cd85b65ac09cd24fc1",
       "version_major": 2,
       "version_minor": 0
      },
      "text/plain": [
       "  0%|          | 0/32 [00:00<?, ?it/s]"
      ]
     },
     "metadata": {},
     "output_type": "display_data"
    },
    {
     "name": "stdout",
     "output_type": "stream",
     "text": [
      "Epoch: 9, Training loss: 18.5164\n"
     ]
    },
    {
     "data": {
      "application/vnd.jupyter.widget-view+json": {
       "model_id": "b1cb57b3eadf4ffc90f8a493ced769bc",
       "version_major": 2,
       "version_minor": 0
      },
      "text/plain": [
       "  0%|          | 0/32 [00:00<?, ?it/s]"
      ]
     },
     "metadata": {},
     "output_type": "display_data"
    },
    {
     "name": "stdout",
     "output_type": "stream",
     "text": [
      "Epoch: 10, Training loss: 18.5321\n"
     ]
    },
    {
     "data": {
      "application/vnd.jupyter.widget-view+json": {
       "model_id": "e194bdab0e2b4731b9965e41a93b4aee",
       "version_major": 2,
       "version_minor": 0
      },
      "text/plain": [
       "  0%|          | 0/32 [00:00<?, ?it/s]"
      ]
     },
     "metadata": {},
     "output_type": "display_data"
    },
    {
     "name": "stdout",
     "output_type": "stream",
     "text": [
      "Epoch: 11, Training loss: 18.5289\n"
     ]
    },
    {
     "data": {
      "application/vnd.jupyter.widget-view+json": {
       "model_id": "ae476367c6504d218184e076695c3542",
       "version_major": 2,
       "version_minor": 0
      },
      "text/plain": [
       "  0%|          | 0/32 [00:00<?, ?it/s]"
      ]
     },
     "metadata": {},
     "output_type": "display_data"
    },
    {
     "name": "stdout",
     "output_type": "stream",
     "text": [
      "Epoch: 12, Training loss: 18.2194\n"
     ]
    },
    {
     "data": {
      "application/vnd.jupyter.widget-view+json": {
       "model_id": "2999f0d95b3b46bb80d6603270340306",
       "version_major": 2,
       "version_minor": 0
      },
      "text/plain": [
       "  0%|          | 0/32 [00:00<?, ?it/s]"
      ]
     },
     "metadata": {},
     "output_type": "display_data"
    },
    {
     "name": "stdout",
     "output_type": "stream",
     "text": [
      "Epoch: 13, Training loss: 18.0579\n"
     ]
    },
    {
     "data": {
      "application/vnd.jupyter.widget-view+json": {
       "model_id": "8c69dab64c0c42a5a4bc2ff50bea8272",
       "version_major": 2,
       "version_minor": 0
      },
      "text/plain": [
       "  0%|          | 0/32 [00:00<?, ?it/s]"
      ]
     },
     "metadata": {},
     "output_type": "display_data"
    },
    {
     "name": "stdout",
     "output_type": "stream",
     "text": [
      "Epoch: 14, Training loss: 18.1807\n"
     ]
    },
    {
     "data": {
      "application/vnd.jupyter.widget-view+json": {
       "model_id": "a75edddc1db94af38d209cb1d244879e",
       "version_major": 2,
       "version_minor": 0
      },
      "text/plain": [
       "  0%|          | 0/32 [00:00<?, ?it/s]"
      ]
     },
     "metadata": {},
     "output_type": "display_data"
    },
    {
     "name": "stdout",
     "output_type": "stream",
     "text": [
      "Epoch: 15, Training loss: 17.9560\n"
     ]
    },
    {
     "data": {
      "application/vnd.jupyter.widget-view+json": {
       "model_id": "946e9e09209341d79e3c9e91318d5cb6",
       "version_major": 2,
       "version_minor": 0
      },
      "text/plain": [
       "  0%|          | 0/32 [00:00<?, ?it/s]"
      ]
     },
     "metadata": {},
     "output_type": "display_data"
    },
    {
     "name": "stdout",
     "output_type": "stream",
     "text": [
      "Epoch: 16, Training loss: 17.9120\n"
     ]
    },
    {
     "data": {
      "application/vnd.jupyter.widget-view+json": {
       "model_id": "8c818457a492459f802c2fdfab776dce",
       "version_major": 2,
       "version_minor": 0
      },
      "text/plain": [
       "  0%|          | 0/32 [00:00<?, ?it/s]"
      ]
     },
     "metadata": {},
     "output_type": "display_data"
    },
    {
     "name": "stdout",
     "output_type": "stream",
     "text": [
      "Epoch: 17, Training loss: 17.8606\n"
     ]
    },
    {
     "data": {
      "application/vnd.jupyter.widget-view+json": {
       "model_id": "95409f55b2ce448793d8c48ae684f960",
       "version_major": 2,
       "version_minor": 0
      },
      "text/plain": [
       "  0%|          | 0/32 [00:00<?, ?it/s]"
      ]
     },
     "metadata": {},
     "output_type": "display_data"
    },
    {
     "name": "stdout",
     "output_type": "stream",
     "text": [
      "Epoch: 18, Training loss: 17.7908\n"
     ]
    },
    {
     "data": {
      "application/vnd.jupyter.widget-view+json": {
       "model_id": "3f7dc076b2ed41d6beaf10f748f77503",
       "version_major": 2,
       "version_minor": 0
      },
      "text/plain": [
       "  0%|          | 0/32 [00:00<?, ?it/s]"
      ]
     },
     "metadata": {},
     "output_type": "display_data"
    },
    {
     "name": "stdout",
     "output_type": "stream",
     "text": [
      "Epoch: 19, Training loss: 17.9168\n"
     ]
    },
    {
     "data": {
      "application/vnd.jupyter.widget-view+json": {
       "model_id": "b8b9d85a0bfc49238dd0df77b44a74ce",
       "version_major": 2,
       "version_minor": 0
      },
      "text/plain": [
       "  0%|          | 0/32 [00:00<?, ?it/s]"
      ]
     },
     "metadata": {},
     "output_type": "display_data"
    },
    {
     "name": "stdout",
     "output_type": "stream",
     "text": [
      "Epoch: 20, Training loss: 17.7262\n"
     ]
    },
    {
     "data": {
      "application/vnd.jupyter.widget-view+json": {
       "model_id": "84b3b56c7eb44d4fba96138db7b70cd7",
       "version_major": 2,
       "version_minor": 0
      },
      "text/plain": [
       "  0%|          | 0/32 [00:00<?, ?it/s]"
      ]
     },
     "metadata": {},
     "output_type": "display_data"
    },
    {
     "name": "stdout",
     "output_type": "stream",
     "text": [
      "Epoch: 21, Training loss: 17.5858\n"
     ]
    },
    {
     "data": {
      "application/vnd.jupyter.widget-view+json": {
       "model_id": "c2f16be24e2b48d0a1a9da8524d21cfe",
       "version_major": 2,
       "version_minor": 0
      },
      "text/plain": [
       "  0%|          | 0/32 [00:00<?, ?it/s]"
      ]
     },
     "metadata": {},
     "output_type": "display_data"
    },
    {
     "name": "stdout",
     "output_type": "stream",
     "text": [
      "Epoch: 22, Training loss: 17.5655\n"
     ]
    },
    {
     "data": {
      "application/vnd.jupyter.widget-view+json": {
       "model_id": "00ff6b270c8e488383e8fee0830b5420",
       "version_major": 2,
       "version_minor": 0
      },
      "text/plain": [
       "  0%|          | 0/32 [00:00<?, ?it/s]"
      ]
     },
     "metadata": {},
     "output_type": "display_data"
    },
    {
     "name": "stdout",
     "output_type": "stream",
     "text": [
      "Epoch: 23, Training loss: 17.5677\n"
     ]
    },
    {
     "data": {
      "application/vnd.jupyter.widget-view+json": {
       "model_id": "061e67892deb455c9b493223b89a0425",
       "version_major": 2,
       "version_minor": 0
      },
      "text/plain": [
       "  0%|          | 0/32 [00:00<?, ?it/s]"
      ]
     },
     "metadata": {},
     "output_type": "display_data"
    },
    {
     "name": "stdout",
     "output_type": "stream",
     "text": [
      "Epoch: 24, Training loss: 17.6287\n"
     ]
    },
    {
     "data": {
      "application/vnd.jupyter.widget-view+json": {
       "model_id": "6f68107ee01d413eb7834cf8a1a449b4",
       "version_major": 2,
       "version_minor": 0
      },
      "text/plain": [
       "  0%|          | 0/32 [00:00<?, ?it/s]"
      ]
     },
     "metadata": {},
     "output_type": "display_data"
    },
    {
     "name": "stdout",
     "output_type": "stream",
     "text": [
      "Epoch: 25, Training loss: 17.4766\n"
     ]
    },
    {
     "data": {
      "application/vnd.jupyter.widget-view+json": {
       "model_id": "da72eaf23e7e4ebe9d4c9335c1691222",
       "version_major": 2,
       "version_minor": 0
      },
      "text/plain": [
       "  0%|          | 0/32 [00:00<?, ?it/s]"
      ]
     },
     "metadata": {},
     "output_type": "display_data"
    },
    {
     "name": "stdout",
     "output_type": "stream",
     "text": [
      "Epoch: 26, Training loss: 17.3864\n"
     ]
    },
    {
     "data": {
      "application/vnd.jupyter.widget-view+json": {
       "model_id": "a0d77e173b474205b8703b8a95b456fc",
       "version_major": 2,
       "version_minor": 0
      },
      "text/plain": [
       "  0%|          | 0/32 [00:00<?, ?it/s]"
      ]
     },
     "metadata": {},
     "output_type": "display_data"
    },
    {
     "name": "stdout",
     "output_type": "stream",
     "text": [
      "Epoch: 27, Training loss: 17.3278\n"
     ]
    },
    {
     "data": {
      "application/vnd.jupyter.widget-view+json": {
       "model_id": "d7decc19d96441a4b609dae18e861bb8",
       "version_major": 2,
       "version_minor": 0
      },
      "text/plain": [
       "  0%|          | 0/32 [00:00<?, ?it/s]"
      ]
     },
     "metadata": {},
     "output_type": "display_data"
    },
    {
     "name": "stdout",
     "output_type": "stream",
     "text": [
      "Epoch: 28, Training loss: 17.3704\n"
     ]
    },
    {
     "data": {
      "application/vnd.jupyter.widget-view+json": {
       "model_id": "fa5e696a7c4f41da833860469fede937",
       "version_major": 2,
       "version_minor": 0
      },
      "text/plain": [
       "  0%|          | 0/32 [00:00<?, ?it/s]"
      ]
     },
     "metadata": {},
     "output_type": "display_data"
    },
    {
     "name": "stdout",
     "output_type": "stream",
     "text": [
      "Epoch: 29, Training loss: 17.3743\n"
     ]
    },
    {
     "data": {
      "application/vnd.jupyter.widget-view+json": {
       "model_id": "695865254d054d908cf673128dd9b37d",
       "version_major": 2,
       "version_minor": 0
      },
      "text/plain": [
       "  0%|          | 0/16 [00:00<?, ?it/s]"
      ]
     },
     "metadata": {},
     "output_type": "display_data"
    },
    {
     "name": "stdout",
     "output_type": "stream",
     "text": [
      "Test loss: 9.2621\n",
      "Test ROC-AUC: 0.9060\n",
      "Time: 16.7219\n"
     ]
    }
   ],
   "source": [
    "st = time.time()\n",
    "train_VFL(tr_dl, te_dl, pos_weight)\n",
    "print(f'Time: {time.time()-st:.4f}')"
   ]
  }
 ],
 "metadata": {
  "kernelspec": {
   "display_name": "fedml",
   "language": "python",
   "name": "python3"
  },
  "language_info": {
   "codemirror_mode": {
    "name": "ipython",
    "version": 3
   },
   "file_extension": ".py",
   "mimetype": "text/x-python",
   "name": "python",
   "nbconvert_exporter": "python",
   "pygments_lexer": "ipython3",
   "version": "3.8.19"
  }
 },
 "nbformat": 4,
 "nbformat_minor": 2
}
